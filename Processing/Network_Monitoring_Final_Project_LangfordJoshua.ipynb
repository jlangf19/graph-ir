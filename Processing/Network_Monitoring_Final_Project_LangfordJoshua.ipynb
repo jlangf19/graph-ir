{
 "cells": [
  {
   "cell_type": "markdown",
   "metadata": {},
   "source": [
    "# CSCI E-63 Final Project - Network Monitoring Analytics\n",
    "Author: Joshua Langford\n",
    "\n",
    "This project expands upon existing research conducted by Mouad Lasri (Github: https://github.com/mouadlasri/datapipeline-TCP-UDP-neo4j)\n"
   ]
  },
  {
   "cell_type": "code",
   "execution_count": 1,
   "metadata": {
    "scrolled": true
   },
   "outputs": [
    {
     "name": "stdout",
     "output_type": "stream",
     "text": [
      "Requirement already satisfied: py2neo in /home/jlangford/anaconda3/lib/python3.9/site-packages (2021.2.3)\n",
      "Requirement already satisfied: packaging in /home/jlangford/anaconda3/lib/python3.9/site-packages (from py2neo) (21.0)\n",
      "Requirement already satisfied: urllib3 in /home/jlangford/anaconda3/lib/python3.9/site-packages (from py2neo) (1.26.7)\n",
      "Requirement already satisfied: pansi>=2020.7.3 in /home/jlangford/anaconda3/lib/python3.9/site-packages (from py2neo) (2020.7.3)\n",
      "Requirement already satisfied: pygments>=2.0.0 in /home/jlangford/anaconda3/lib/python3.9/site-packages (from py2neo) (2.10.0)\n",
      "Requirement already satisfied: certifi in /home/jlangford/anaconda3/lib/python3.9/site-packages (from py2neo) (2021.10.8)\n",
      "Requirement already satisfied: monotonic in /home/jlangford/anaconda3/lib/python3.9/site-packages (from py2neo) (1.6)\n",
      "Requirement already satisfied: interchange~=2021.0.4 in /home/jlangford/anaconda3/lib/python3.9/site-packages (from py2neo) (2021.0.4)\n",
      "Requirement already satisfied: six>=1.15.0 in /home/jlangford/anaconda3/lib/python3.9/site-packages (from py2neo) (1.16.0)\n",
      "Requirement already satisfied: pytz in /home/jlangford/anaconda3/lib/python3.9/site-packages (from interchange~=2021.0.4->py2neo) (2021.3)\n",
      "Requirement already satisfied: pyparsing>=2.0.2 in /home/jlangford/anaconda3/lib/python3.9/site-packages (from packaging->py2neo) (3.0.4)\n",
      "Requirement already satisfied: scapy in /home/jlangford/anaconda3/lib/python3.9/site-packages (2.4.5)\n"
     ]
    }
   ],
   "source": [
    "# Installing python packages to parse PCAP files and interface with Neo4j.\n",
    "import sys\n",
    "!{sys.executable} -m pip install py2neo\n",
    "!{sys.executable} -m pip install scapy"
   ]
  },
  {
   "cell_type": "code",
   "execution_count": 2,
   "metadata": {},
   "outputs": [],
   "source": [
    "# Import packages from pcapfile to interpret the input PCAP file, packages from py2neo to generate graphs \n",
    "# within Neo4j, and packages from scapy to parse PCAP into packets\n",
    "from scapy.all import *\n",
    "from py2neo import Graph, Node, Relationship\n",
    "import pandas as pd"
   ]
  },
  {
   "cell_type": "code",
   "execution_count": 3,
   "metadata": {},
   "outputs": [],
   "source": [
    "# Parse the capture file into individual packets and inspect\n",
    "packets = rdpcap(\"traffic.pcap\")"
   ]
  },
  {
   "cell_type": "code",
   "execution_count": 4,
   "metadata": {},
   "outputs": [],
   "source": [
    "# Import TCP/UDP port to protocol guessing tables\n",
    "tcp_ports = pd.read_csv(\"tcp_ports.csv\")\n",
    "udp_ports = pd.read_csv(\"udp_ports.csv\")\n",
    "tcp_port_dict = {}\n",
    "udp_port_dict = {}\n",
    "for index, row in tcp_ports.iterrows():\n",
    "    tcp_port_dict[row['port']] = row['description']\n",
    "for index, row in udp_ports.iterrows():\n",
    "    udp_port_dict[row['port']] = row['description']"
   ]
  },
  {
   "cell_type": "code",
   "execution_count": 5,
   "metadata": {
    "scrolled": true
   },
   "outputs": [],
   "source": [
    "# A detailed view of the types and numbers of packets within each session.\n",
    "# The sessions object will be parsed into individual nodes and properties in Neo4j\n",
    "sessions = packets.sessions()"
   ]
  },
  {
   "cell_type": "code",
   "execution_count": 6,
   "metadata": {},
   "outputs": [
    {
     "name": "stdout",
     "output_type": "stream",
     "text": [
      "Eth fields:  [<DestMACField (Ether).dst>, <SourceMACField (Ether).src>, <XShortEnumField (Ether).type>] \n",
      "\n",
      "IP fields:  [<BitField (IP,IPerror,IPv46).version>, <BitField (IP,IPerror,IPv46).ihl>, <XByteField (IP,IPerror,IPv46).tos>, <ShortField (IP,IPerror,IPv46).len>, <ShortField (IP,IPerror,IPv46).id>, <FlagsField (IP,IPerror,IPv46).flags>, <BitField (IP,IPerror,IPv46).frag>, <ByteField (IP,IPerror,IPv46).ttl>, <ByteEnumField (IP,IPerror,IPv46).proto>, <XShortField (IP,IPerror,IPv46).chksum>, <scapy.fields.Emph object at 0x7f3e6feb1e80>, <scapy.fields.Emph object at 0x7f3e6feb1f80>, <PacketListField (IP,IPerror,IPv46).options>] \n",
      "\n",
      "TCP fields:  [<ShortEnumField (TCP,TCPerror).sport>, <ShortEnumField (TCP,TCPerror).dport>, <IntField (TCP,TCPerror).seq>, <IntField (TCP,TCPerror).ack>, <BitField (TCP,TCPerror).dataofs>, <BitField (TCP,TCPerror).reserved>, <FlagsField (TCP,TCPerror).flags>, <ShortField (TCP,TCPerror).window>, <XShortField (TCP,TCPerror).chksum>, <ShortField (TCP,TCPerror).urgptr>, <TCPOptionsField (TCP,TCPerror).options>] \n",
      "\n",
      "UDP fields:  [<ShortEnumField (UDP,UDPerror).sport>, <ShortEnumField (UDP,UDPerror).dport>, <ShortField (UDP,UDPerror).len>, <XShortField (UDP,UDPerror).chksum>] \n",
      "\n"
     ]
    }
   ],
   "source": [
    "# Describe the fields in each of the packet layers\n",
    "print(\"Eth fields: \",packets[30].fields_desc, \"\\n\")\n",
    "print(\"IP fields: \",packets[30].getlayer('IP').fields_desc,\"\\n\")\n",
    "print(\"TCP fields: \",packets[30].getlayer('TCP').fields_desc, \"\\n\")\n",
    "print(\"UDP fields: \",packets[0].getlayer('UDP').fields_desc, \"\\n\")"
   ]
  },
  {
   "cell_type": "code",
   "execution_count": 7,
   "metadata": {},
   "outputs": [],
   "source": [
    "# Create logical reference to local Neo4j server. \n",
    "# This will allow nodes and relationships to be created in Python and passed to Neo4j.\n",
    "neo4jGraph = Graph(\"bolt://localhost:7687\", auth=(\"neo4j\", \"#4Sa7YA:n304j\"))"
   ]
  },
  {
   "cell_type": "code",
   "execution_count": 8,
   "metadata": {},
   "outputs": [
    {
     "name": "stderr",
     "output_type": "stream",
     "text": [
      "/tmp/ipykernel_834477/3817133497.py:14: DeprecationWarning: an integer is required (got type EDecimal).  Implicit conversion to integers using __int__ is deprecated, and may be removed in a future version of Python.\n",
      "  start_time = str(datetime.utcfromtimestamp(value[0].time))\n",
      "/tmp/ipykernel_834477/3817133497.py:15: DeprecationWarning: an integer is required (got type EDecimal).  Implicit conversion to integers using __int__ is deprecated, and may be removed in a future version of Python.\n",
      "  end_time = str(datetime.utcfromtimestamp(value[-1].time))\n"
     ]
    }
   ],
   "source": [
    "for key, value in sessions.items():\n",
    "    # Split the session key to parse the key session characteristics\n",
    "    key_split = key.split()\n",
    "    # Local variable to store session size\n",
    "    size = 0\n",
    "    # Local variable to store a sample session packet\n",
    "    pack = 0\n",
    "    # Determine the session size in bytes\n",
    "    for p in value:\n",
    "        size = len(p)+size\n",
    "        pack = p\n",
    "    # Determine session time\n",
    "    session_dur = float(value[-1].time - value[0].time)\n",
    "    start_time = str(datetime.utcfromtimestamp(value[0].time))\n",
    "    end_time = str(datetime.utcfromtimestamp(value[-1].time))\n",
    "    start_time_neo_format = start_time.replace(\" \", \"T\")\n",
    "    start_time_neo_format = start_time_neo_format + \"Z\"\n",
    "    end_time_neo_format = end_time.replace(\" \", \"T\")\n",
    "    end_time_neo_format = end_time_neo_format + \"Z\"\n",
    "    # Check the session transport layer protocol\n",
    "    if \"TCP\" in key_split[0]:\n",
    "        firstNode = Node(\"Host\", name=key_split[1].split(\":\")[0])\n",
    "        secondNode = Node(\"Host\", name=key_split[3].split(\":\")[0])\n",
    "        sourcePort = int(key_split[1].split(\":\")[1])\n",
    "        destPort = int(key_split[3].split(\":\")[1])\n",
    "        # Check if the session is IPv4 or IPv6\n",
    "        if(pack.getlayer('IP').version == 4):\n",
    "            ipVersion = \"IPv4\"\n",
    "        else:\n",
    "            ipVersion = \"IPv6\"\n",
    "        # Guess the service in use by the session\n",
    "        if sourcePort in tcp_port_dict.keys():\n",
    "            protocol = tcp_port_dict[sourcePort]\n",
    "        elif destPort in tcp_port_dict.keys():\n",
    "            protocol = tcp_port_dict[destPort]\n",
    "        else:\n",
    "            protocol = \"Unkown\"\n",
    "        # Create a TCP relationship between the two nodes with the identified metadata\n",
    "        SENDtcp = Relationship(firstNode, \"TCP\", secondNode, src_port=sourcePort, dst_port=destPort,\n",
    "                               ip_version=ipVersion, session_size=size, service=protocol, duration=session_dur,\n",
    "                              session_start=start_time_neo_format,session_end=end_time_neo_format)\n",
    "        # Merge to the local Neo4j database\n",
    "        neo4jGraph.merge(SENDtcp,\"Host\", \"name\")\n",
    "\n",
    "    if \"UDP\" in key_split[0]:\n",
    "        firstNode = Node(\"Host\", name=key_split[1].split(\":\")[0])\n",
    "        secondNode = Node(\"Host\", name=key_split[3].split(\":\")[0])\n",
    "        sourcePort = int(key_split[1].split(\":\")[1])\n",
    "        destPort = int(key_split[3].split(\":\")[1])\n",
    "        # Check if the session is IPv4 or IPv6\n",
    "        if(pack.getlayer('IP').version == 4):\n",
    "            ipVersion = \"IPv4\"\n",
    "        else:\n",
    "            ipVersion = \"IPv6\"\n",
    "        # Guess the service in use by the session\n",
    "        if sourcePort in udp_port_dict.keys():\n",
    "            protocol = udp_port_dict[sourcePort]\n",
    "        elif destPort in udp_port_dict.keys():\n",
    "            protocol = udp_port_dict[destPort]\n",
    "        else:\n",
    "            protocol = \"Unkown\"\n",
    "        # Create a UDP relationship between the two nodes with the identified metadata\n",
    "        SENDudp = Relationship(firstNode, \"UDP\", secondNode, src_port=sourcePort, dst_port=destPort,\n",
    "                               ip_version=ipVersion, session_size=size, service=protocol, duration=session_dur,\n",
    "                              session_start=start_time_neo_format,session_end=end_time_neo_format)\n",
    "        # Merge to the local Neo4j database\n",
    "        neo4jGraph.merge(SENDudp,\"Host\", \"name\")\n",
    "        \n",
    "    elif \"ARP\" in key_split[0]:\n",
    "        firstNode = Node(\"Host\", name=key_split[1].split(\":\")[0])\n",
    "        secondNode = Node(\"Host\", name=key_split[3].split(\":\")[0])\n",
    "        # Create an ARP relationship between the two nodes\n",
    "        SENDarp = Relationship(firstNode, \"ARP\", secondNode, session_size=size, duration=session_dur,\n",
    "                              session_start=start_time_neo_format,session_end=end_time_neo_format)\n",
    "        # Merge to the local Neo4j database\n",
    "        neo4jGraph.merge(SENDarp,\"Host\", \"name\")\n",
    "    \n",
    "    if \"IP\" in key_split[0]:\n",
    "        if \"udp\" in key_split[-1].split('=')[1]:\n",
    "            firstNode = Node(\"Host\", name=key_split[1].split(\":\")[0])\n",
    "            secondNode = Node(\"Host\", name=key_split[3].split(\":\")[0])\n",
    "            # Create a UDP relationship between the two nodes with the identified metadata\n",
    "            SENDudp = Relationship(firstNode, \"UDP\", secondNode, session_size=size, duration=session_dur,\n",
    "                              session_start=start_time_neo_format,session_end=end_time_neo_format)\n",
    "            # Merge to the local Neo4j database\n",
    "            neo4jGraph.merge(SENDudp,\"Host\", \"name\")\n",
    "        elif \"tcp\" in key_split[-1].split('=')[1]:\n",
    "            firstNode = Node(\"Host\", name=key_split[1].split(\":\")[0])\n",
    "            secondNode = Node(\"Host\", name=key_split[3].split(\":\")[0])\n",
    "            # Create a TCP relationship between the two nodes with the identified metadata\n",
    "            SENDtcp = Relationship(firstNode, \"TCP\", secondNode, session_size=size, duration=session_dur,\n",
    "                              session_start=start_time_neo_format,session_end=end_time_neo_format)\n",
    "            # Merge to the local Neo4j database\n",
    "            neo4jGraph.merge(SENDtcp,\"Host\", \"name\")"
   ]
  },
  {
   "cell_type": "code",
   "execution_count": 9,
   "metadata": {},
   "outputs": [
    {
     "data": {
      "text/html": [
       "<table><tr><th>r</th></tr><tr><td style=\"text-align:left\">(192.168.86.42)-[:ARP {duration: 0.0, session_end: &#039;2022-05-12T01:17:41Z&#039;, session_size: 60, session_start: &#039;2022-05-12T01:17:41Z&#039;}]-&gt;(192.168.86.77)</td></tr><tr><td style=\"text-align:left\">(192.168.86.77)-[:ARP {duration: 0.0, session_end: &#039;2022-05-12T01:17:41Z&#039;, session_size: 42, session_start: &#039;2022-05-12T01:17:41Z&#039;}]-&gt;(192.168.86.42)</td></tr><tr><td style=\"text-align:left\">(192.168.86.77)-[:TCP {dst_port: 443, duration: 30.010245, ip_version: &#039;IPv4&#039;, service: &#039;HTTP protocol over TLS/SSL&#039;, session_end: &#039;2022-05-12T01:18:31Z&#039;, session_size: 5564, session_start: &#039;2022-05-12T01:18:01Z&#039;, src_port: 49903}]-&gt;(192.168.86.42)</td></tr></table>"
      ],
      "text/plain": [
       " r                                                                                                                                                                                                                                                        \n",
       "----------------------------------------------------------------------------------------------------------------------------------------------------------------------------------------------------------------------------------------------------------\n",
       " (192.168.86.42)-[:ARP {duration: 0.0, session_end: '2022-05-12T01:17:41Z', session_size: 60, session_start: '2022-05-12T01:17:41Z'}]->(192.168.86.77)                                                                                                    \n",
       " (192.168.86.77)-[:ARP {duration: 0.0, session_end: '2022-05-12T01:17:41Z', session_size: 42, session_start: '2022-05-12T01:17:41Z'}]->(192.168.86.42)                                                                                                    \n",
       " (192.168.86.77)-[:TCP {dst_port: 443, duration: 30.010245, ip_version: 'IPv4', service: 'HTTP protocol over TLS/SSL', session_end: '2022-05-12T01:18:31Z', session_size: 5564, session_start: '2022-05-12T01:18:01Z', src_port: 49903}]->(192.168.86.42) "
      ]
     },
     "execution_count": 9,
     "metadata": {},
     "output_type": "execute_result"
    }
   ],
   "source": [
    "# Cast session metadata to integers to enable quantitative queries in Neo4j\n",
    "neo4jGraph.run(\"MATCH () - [r] - () SET r += {session_size: toInteger(r.session_size), dst_port: toInteger(r.dst_port), src_port: toInteger(r.src_port)} RETURN r\")"
   ]
  },
  {
   "cell_type": "code",
   "execution_count": null,
   "metadata": {},
   "outputs": [],
   "source": []
  }
 ],
 "metadata": {
  "kernelspec": {
   "display_name": "Python 3 (ipykernel)",
   "language": "python",
   "name": "python3"
  },
  "language_info": {
   "codemirror_mode": {
    "name": "ipython",
    "version": 3
   },
   "file_extension": ".py",
   "mimetype": "text/x-python",
   "name": "python",
   "nbconvert_exporter": "python",
   "pygments_lexer": "ipython3",
   "version": "3.9.7"
  }
 },
 "nbformat": 4,
 "nbformat_minor": 2
}
